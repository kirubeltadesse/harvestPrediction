{
 "cells": [
  {
   "cell_type": "markdown",
   "metadata": {},
   "source": [
    "## Peliminary Results"
   ]
  },
  {
   "cell_type": "markdown",
   "metadata": {
    "heading_collapsed": true
   },
   "source": [
    "## Collecting data"
   ]
  },
  {
   "cell_type": "code",
   "execution_count": 11,
   "metadata": {
    "hidden": true
   },
   "outputs": [],
   "source": [
    "import pandas as pd\n",
    "import numpy as np \n",
    "import requests,json, pickle, glob\n",
    "from datetime import datetime"
   ]
  },
  {
   "cell_type": "code",
   "execution_count": 12,
   "metadata": {
    "hidden": true
   },
   "outputs": [],
   "source": [
    "# write a function that receive the range of dates\n",
    "# and get the data from the folders\n",
    "# and append to the dataframe\n",
    "\n",
    "# oragon = pd.read_excel('https://query.data.world/s/tnmiycnhx4mu4777vps4nphqm4qeoh')\n",
    "# oragon\n",
    "\n",
    "# PATH = r'C:/Users/ktadesse/Google Drive/research/VACCINE/Research Direction/Napa Valley/2016/'\n",
    "\n",
    "# df_rain = pd.read_csv(PATH + 'rainfall.csv', names=['dates', 'inches']) #, index_col='dates')\n",
    "# df_stages = pd.read_csv(PATH+'stages.csv', names=['dates', 'types'])\n",
    "\n",
    "# # resetting the date as an index\n",
    "# rain = df_rain.set_index('dates')\n",
    "# stages = df_stages.set_index('dates')\n",
    "\n",
    "# # convering the date to a date datatype\n",
    "# rain.index = pd.to_datetime(rain.index)\n",
    "# stages.index = pd.to_datetime(stages.index)\n",
    "\n",
    "path = r'C:/Users/ktadesse/Google Drive/research/VACCINE/Research Direction/Napa Valley/'\n",
    "filenames = glob.glob(path +\"*/rainfall.csv\")\n",
    "\n",
    "# big_fame = pd.concat([pd.read_csv(f, names=['dates', 'inches']) for f in glob.glob(path +\"*/rainfall.csv\")],\n",
    "#                     ignore_index=True, sort=Ture)\n",
    "df_rain = pd.concat([pd.read_csv(f, names=['dates','inches']) for f in glob.glob(path +\"*/rainfall.csv\")])\n",
    "df_stages = pd.concat([pd.read_csv(f, names=['dates','types']) for f in glob.glob(path +\"*/stages.csv\")])\n",
    "\n",
    "# resetting the date as an index\n",
    "rain = df_rain.set_index('dates')\n",
    "stages = df_stages.set_index('dates')\n",
    "\n",
    "# convering the date to a date datatype\n",
    "rain.index = pd.to_datetime(rain.index)\n",
    "stages.index = pd.to_datetime(stages.index)"
   ]
  },
  {
   "cell_type": "markdown",
   "metadata": {},
   "source": [
    "## Fetching data from CMIS API"
   ]
  },
  {
   "cell_type": "code",
   "execution_count": 13,
   "metadata": {},
   "outputs": [],
   "source": [
    "API_KEY = 'fc26f8f4-3474-4ffa-b60e-2b39b66a46a0' # '61a06bdc-a5b5-4229-9f61-b91bdff8ca63'  \n",
    "dataItems_list = ['day-air-tmp-avg','day-air-tmp-max','day-air-tmp-min','day-dew-pnt','day-eto','day-asce-eto','day-asce-etr','day-precip','day-sol-rad-avg','day-wind-spd-avg']\n",
    "dataItems = ','.join(dataItems_list)\n",
    "BASE_URL = 'http://et.water.ca.gov/api/data?appKey={}&targets={}&startDate={}&endDate={}&dataItems={}&prioritizeSCS=N'\n",
    "\n",
    "def extract_weather_data(zipcode, start_date, end_date):\n",
    "    records = []\n",
    "    request= BASE_URL.format(API_KEY,zipcode,start_date, end_date, dataItems)\n",
    "    response = requests.get(request)\n",
    "    data =response.json()\n",
    "    if response.status_code == 200:\n",
    "#         data = response.json()\n",
    "        dates, hours, frames, Eto_values, col_names, DayPrecip, DayAirTmpMin, DayAirTmpMax, DayEto, DayAirTmpAvg, DaySolRadAvg, DayWindSpdAvg = ([] for i in range(12))\n",
    "        for i, day in enumerate(data['Data']['Providers'][0]['Records']):\n",
    "            dates.append(day['Date'])\n",
    "            Eto_values.append(day['DayAsceEto']['Value'])\n",
    "            DayPrecip.append(day['DayPrecip']['Value'])\n",
    "            DayAirTmpMin.append(day['DayAirTmpMin']['Value'])\n",
    "            DayAirTmpMax.append(day['DayAirTmpMax']['Value'])\n",
    "            DayEto.append(day['DayEto']['Value'])\n",
    "            DayAirTmpAvg.append(day['DayAirTmpAvg']['Value'])\n",
    "            DaySolRadAvg.append(day['DaySolRadAvg']['Value'])\n",
    "            DayWindSpdAvg.append(day['DayWindSpdAvg']['Value'])\n",
    "            # hours.append(int(day.get('Hour', '0000'))/100)\n",
    "            reqdata = {'DayPrecip': DayPrecip, 'DayAirTmpMin': DayAirTmpMin, 'DayAirTmpMax': DayAirTmpMax,\n",
    "                       'DayEto': DayEto, 'DayAirTmpAvg': DayAirTmpAvg, 'DayAirTmpAvg': DayAirTmpAvg,\n",
    "                       'DaySolRadAvg': DaySolRadAvg, 'DayWindSpdAvg': DayWindSpdAvg, 'Eto_values': Eto_values}\n",
    "            df = pd.DataFrame(reqdata, dtype=float)\n",
    "            df.index = dates\n",
    "        df.index = pd.to_datetime(df.index) \n",
    "        df = df.dropna()\n",
    "    else:\n",
    "        return response   \n",
    "    return df"
   ]
  },
  {
   "cell_type": "code",
   "execution_count": 14,
   "metadata": {},
   "outputs": [],
   "source": [
    "def weather_mulit_years(start, end):\n",
    "    years = pd.date_range(start, end, freq='Y')\n",
    "    start = start\n",
    "    df_yrs = []\n",
    "    for indx, i in enumerate(years.date):\n",
    "        end = years.date[indx]\n",
    "        df = extract_weather_data('94581',start,end)\n",
    "        df_yrs.append(df)\n",
    "        start = end\n",
    "    dataset = pd.concat([*df_yrs], axis=0)\n",
    "    dataset = dataset.drop_duplicates()\n",
    "    \n",
    "    return dataset"
   ]
  },
  {
   "cell_type": "code",
   "execution_count": 46,
   "metadata": {},
   "outputs": [],
   "source": [
    "df = weather_mulit_years('2017-01-01','2017-12-31')\n",
    "\n",
    "# df[df.index.duplicated(keep=False)]\n",
    "\n",
    "# df.iloc['2011-01-09']"
   ]
  },
  {
   "cell_type": "code",
   "execution_count": 49,
   "metadata": {},
   "outputs": [
    {
     "data": {
      "text/html": [
       "<div>\n",
       "<style scoped>\n",
       "    .dataframe tbody tr th:only-of-type {\n",
       "        vertical-align: middle;\n",
       "    }\n",
       "\n",
       "    .dataframe tbody tr th {\n",
       "        vertical-align: top;\n",
       "    }\n",
       "\n",
       "    .dataframe thead th {\n",
       "        text-align: right;\n",
       "    }\n",
       "</style>\n",
       "<table border=\"1\" class=\"dataframe\">\n",
       "  <thead>\n",
       "    <tr style=\"text-align: right;\">\n",
       "      <th></th>\n",
       "      <th>DayPrecip</th>\n",
       "      <th>DayAirTmpMin</th>\n",
       "      <th>DayAirTmpMax</th>\n",
       "      <th>DayEto</th>\n",
       "      <th>DayAirTmpAvg</th>\n",
       "      <th>DaySolRadAvg</th>\n",
       "      <th>DayWindSpdAvg</th>\n",
       "      <th>Eto_values</th>\n",
       "    </tr>\n",
       "  </thead>\n",
       "  <tbody>\n",
       "    <tr>\n",
       "      <th>2017-01-01</th>\n",
       "      <td>0.00</td>\n",
       "      <td>32.6</td>\n",
       "      <td>56.1</td>\n",
       "      <td>0.04</td>\n",
       "      <td>43.7</td>\n",
       "      <td>204.0</td>\n",
       "      <td>2.4</td>\n",
       "      <td>0.04</td>\n",
       "    </tr>\n",
       "    <tr>\n",
       "      <th>2017-01-02</th>\n",
       "      <td>0.14</td>\n",
       "      <td>35.9</td>\n",
       "      <td>52.4</td>\n",
       "      <td>0.03</td>\n",
       "      <td>43.1</td>\n",
       "      <td>148.0</td>\n",
       "      <td>3.3</td>\n",
       "      <td>0.03</td>\n",
       "    </tr>\n",
       "    <tr>\n",
       "      <th>2017-01-03</th>\n",
       "      <td>1.04</td>\n",
       "      <td>42.3</td>\n",
       "      <td>54.2</td>\n",
       "      <td>0.00</td>\n",
       "      <td>48.2</td>\n",
       "      <td>36.0</td>\n",
       "      <td>5.1</td>\n",
       "      <td>0.00</td>\n",
       "    </tr>\n",
       "    <tr>\n",
       "      <th>2017-01-04</th>\n",
       "      <td>0.24</td>\n",
       "      <td>43.6</td>\n",
       "      <td>54.8</td>\n",
       "      <td>0.01</td>\n",
       "      <td>49.8</td>\n",
       "      <td>71.0</td>\n",
       "      <td>2.6</td>\n",
       "      <td>0.01</td>\n",
       "    </tr>\n",
       "    <tr>\n",
       "      <th>2017-01-05</th>\n",
       "      <td>0.00</td>\n",
       "      <td>28.9</td>\n",
       "      <td>51.3</td>\n",
       "      <td>0.05</td>\n",
       "      <td>40.0</td>\n",
       "      <td>227.0</td>\n",
       "      <td>2.0</td>\n",
       "      <td>0.04</td>\n",
       "    </tr>\n",
       "  </tbody>\n",
       "</table>\n",
       "</div>"
      ],
      "text/plain": [
       "            DayPrecip  DayAirTmpMin  DayAirTmpMax  DayEto  DayAirTmpAvg  \\\n",
       "2017-01-01       0.00          32.6          56.1    0.04          43.7   \n",
       "2017-01-02       0.14          35.9          52.4    0.03          43.1   \n",
       "2017-01-03       1.04          42.3          54.2    0.00          48.2   \n",
       "2017-01-04       0.24          43.6          54.8    0.01          49.8   \n",
       "2017-01-05       0.00          28.9          51.3    0.05          40.0   \n",
       "\n",
       "            DaySolRadAvg  DayWindSpdAvg  Eto_values  \n",
       "2017-01-01         204.0            2.4        0.04  \n",
       "2017-01-02         148.0            3.3        0.03  \n",
       "2017-01-03          36.0            5.1        0.00  \n",
       "2017-01-04          71.0            2.6        0.01  \n",
       "2017-01-05         227.0            2.0        0.04  "
      ]
     },
     "execution_count": 49,
     "metadata": {},
     "output_type": "execute_result"
    }
   ],
   "source": [
    "df.head()"
   ]
  },
  {
   "cell_type": "markdown",
   "metadata": {},
   "source": [
    "#### Drawing the weather graph"
   ]
  },
  {
   "cell_type": "code",
   "execution_count": null,
   "metadata": {},
   "outputs": [],
   "source": [
    "import matplotlib.pyplot as plt\n",
    "fig, ax = plt.subplots(figsize=(15,7))\n",
    "df['Avarage'] = "
   ]
  },
  {
   "cell_type": "code",
   "execution_count": 52,
   "metadata": {},
   "outputs": [
    {
     "ename": "ValueError",
     "evalue": "too many values to unpack (expected 2)",
     "output_type": "error",
     "traceback": [
      "\u001b[1;31m---------------------------------------------------------------------------\u001b[0m",
      "\u001b[1;31mValueError\u001b[0m                                Traceback (most recent call last)",
      "\u001b[1;32m<ipython-input-52-00e9005a9d7f>\u001b[0m in \u001b[0;36m<module>\u001b[1;34m\u001b[0m\n\u001b[1;32m----> 1\u001b[1;33m \u001b[1;32mfor\u001b[0m \u001b[0mi\u001b[0m\u001b[1;33m,\u001b[0m\u001b[0mj\u001b[0m \u001b[1;32min\u001b[0m \u001b[0mdf\u001b[0m\u001b[1;33m[\u001b[0m\u001b[1;33m[\u001b[0m\u001b[1;34m'DayAirTmpMin'\u001b[0m\u001b[1;33m,\u001b[0m \u001b[1;34m'DayAirTmpMax'\u001b[0m\u001b[1;33m]\u001b[0m\u001b[1;33m]\u001b[0m\u001b[1;33m:\u001b[0m\u001b[1;33m\u001b[0m\u001b[1;33m\u001b[0m\u001b[0m\n\u001b[0m\u001b[0;32m      2\u001b[0m     \u001b[0mprint\u001b[0m\u001b[1;33m(\u001b[0m\u001b[0mi\u001b[0m\u001b[1;33m,\u001b[0m\u001b[0mj\u001b[0m\u001b[1;33m)\u001b[0m\u001b[1;33m\u001b[0m\u001b[1;33m\u001b[0m\u001b[0m\n",
      "\u001b[1;31mValueError\u001b[0m: too many values to unpack (expected 2)"
     ]
    }
   ],
   "source": [
    "for i in df[['DayAirTmpMin', 'DayAirTmpMax']]:\n",
    "    "
   ]
  },
  {
   "cell_type": "code",
   "execution_count": 48,
   "metadata": {},
   "outputs": [
    {
     "data": {
      "image/png": "[encoded data removed]",
      "text/plain": [
       "<Figure size 1080x504 with 1 Axes>"
      ]
     },
     "metadata": {
      "needs_background": "light"
     },
     "output_type": "display_data"
    }
   ],
   "source": [
    "plot = df[['DayAirTmpMin', 'DayAirTmpMax']].plot(ax=ax)\n",
    "fig = plot.get_figure()"
   ]
  },
  {
   "cell_type": "markdown",
   "metadata": {
    "heading_collapsed": true
   },
   "source": [
    "## Making a dataset"
   ]
  },
  {
   "cell_type": "code",
   "execution_count": 38,
   "metadata": {
    "hidden": true
   },
   "outputs": [],
   "source": [
    "# We need to take one type and range of dates\n",
    "# make a dataframe\n",
    "# make index date range\n",
    "# return the dataset of a given datatype\n",
    "def make_dataset(kind, start, end):\n",
    "    df = weather_mulit_years(start, end)\n",
    "    \n",
    "    duration = pd.date_range(start, end, freq='D')\n",
    "    \n",
    "    \n",
    "    dataset = pd.DataFrame(columns=['minTemp', 'maxTemp', 'Eto_values','DayPrecip','WindSpd','DaySolRad','rain','type','stage'])\n",
    "\n",
    "    start = np.nan\n",
    "    \n",
    "    # going through the 4 types of wine (Sauvignon Blanc, Chardonnay, Merlot, and Cabernet Sauvignon)\n",
    "    # for kind in set(df_stages['types']):\n",
    "    DATA = {'Start': stages[stages['types'] == kind].index.tolist(),\n",
    "           'Stages':[(i%4) for i in range(stages[stages['types']==1].shape[0])] # ['Bud', 'Bloom','Veraison', 'Harvest']\n",
    "           }\n",
    "    # dataframe with date index and value of stages\n",
    "    dfs = pd.DataFrame(DATA).set_index('Start')\n",
    "    \n",
    "    \n",
    "    # going through each date\n",
    "    for i in duration.date:\n",
    "        if i in df.index:\n",
    "            entry = pd.DataFrame({'minTemp': df.loc[i,'DayAirTmpMin'],\n",
    "                                 'maxTemp': df.loc[i,'DayAirTmpMax'],\n",
    "                                  'Eto_values':df.loc[i,'Eto_values'],\n",
    "                                  'DayPrecip': df.loc[i,'DayPrecip'],\n",
    "                                  'WindSpd': df.loc[i,'DayWindSpdAvg'],\n",
    "                                  'DaySolRad': df.loc[i,'DaySolRadAvg']\n",
    "                                 }, index=[i])\n",
    "\n",
    "        # adding rain \n",
    "        if(rain.loc[rain.index.month == i.month]['inches'].empty == True):\n",
    "            entry['rain'] = 0.00\n",
    "        else:\n",
    "            entry['rain'] = rain.loc[rain.index.month == i.month]['inches'][0]\n",
    "\n",
    "        # adding type\n",
    "        entry['type'] = kind\n",
    "\n",
    "        # adding stage\n",
    "        if(i in dfs.index):\n",
    "            entry['stage'] = dfs.loc[i][0]\n",
    "            start = dfs.loc[i][0]           \n",
    "        else:\n",
    "            # check for the Harevest day \n",
    "            # if Harvest day has been recorded\n",
    "            # no need to record the other dates\n",
    "            if(start == np.int64(3)):\n",
    "                start = np.nan\n",
    "                entry['stage'] = start\n",
    "            else:\n",
    "                entry['stage'] = start\n",
    "\n",
    "        dataset = dataset.append(entry, sort=False)\n",
    "\n",
    "    return dataset\n",
    "   "
   ]
  },
  {
   "cell_type": "code",
   "execution_count": 40,
   "metadata": {
    "hidden": true,
    "scrolled": true
   },
   "outputs": [],
   "source": [
    "# for i in range(stages[stages['types']==1].shape[0]):\n",
    "#     print((i%4)+1)\n",
    "\n",
    "test = make_dataset(1,'2017-01-01', '2017-12-31')\n",
    "\n",
    "# use"
   ]
  },
  {
   "cell_type": "code",
   "execution_count": 44,
   "metadata": {
    "hidden": true
   },
   "outputs": [
    {
     "data": {
      "text/html": [
       "<div>\n",
       "<style scoped>\n",
       "    .dataframe tbody tr th:only-of-type {\n",
       "        vertical-align: middle;\n",
       "    }\n",
       "\n",
       "    .dataframe tbody tr th {\n",
       "        vertical-align: top;\n",
       "    }\n",
       "\n",
       "    .dataframe thead th {\n",
       "        text-align: right;\n",
       "    }\n",
       "</style>\n",
       "<table border=\"1\" class=\"dataframe\">\n",
       "  <thead>\n",
       "    <tr style=\"text-align: right;\">\n",
       "      <th></th>\n",
       "      <th>minTemp</th>\n",
       "      <th>maxTemp</th>\n",
       "      <th>Eto_values</th>\n",
       "      <th>DayPrecip</th>\n",
       "      <th>WindSpd</th>\n",
       "      <th>DaySolRad</th>\n",
       "      <th>rain</th>\n",
       "      <th>type</th>\n",
       "      <th>stage</th>\n",
       "    </tr>\n",
       "  </thead>\n",
       "  <tbody>\n",
       "    <tr>\n",
       "      <th>2017-04-01</th>\n",
       "      <td>44.6</td>\n",
       "      <td>74.9</td>\n",
       "      <td>0.15</td>\n",
       "      <td>0.00</td>\n",
       "      <td>3.2</td>\n",
       "      <td>476.0</td>\n",
       "      <td>1.31</td>\n",
       "      <td>1</td>\n",
       "      <td>0.0</td>\n",
       "    </tr>\n",
       "    <tr>\n",
       "      <th>2017-04-02</th>\n",
       "      <td>45.4</td>\n",
       "      <td>77.3</td>\n",
       "      <td>0.13</td>\n",
       "      <td>0.00</td>\n",
       "      <td>2.3</td>\n",
       "      <td>459.0</td>\n",
       "      <td>1.31</td>\n",
       "      <td>1</td>\n",
       "      <td>0.0</td>\n",
       "    </tr>\n",
       "    <tr>\n",
       "      <th>2017-04-03</th>\n",
       "      <td>38.8</td>\n",
       "      <td>74.4</td>\n",
       "      <td>0.15</td>\n",
       "      <td>0.00</td>\n",
       "      <td>2.9</td>\n",
       "      <td>499.0</td>\n",
       "      <td>1.31</td>\n",
       "      <td>1</td>\n",
       "      <td>0.0</td>\n",
       "    </tr>\n",
       "    <tr>\n",
       "      <th>2017-04-04</th>\n",
       "      <td>43.1</td>\n",
       "      <td>68.1</td>\n",
       "      <td>0.11</td>\n",
       "      <td>0.00</td>\n",
       "      <td>2.6</td>\n",
       "      <td>399.0</td>\n",
       "      <td>1.31</td>\n",
       "      <td>1</td>\n",
       "      <td>0.0</td>\n",
       "    </tr>\n",
       "    <tr>\n",
       "      <th>2017-04-05</th>\n",
       "      <td>44.4</td>\n",
       "      <td>70.5</td>\n",
       "      <td>0.11</td>\n",
       "      <td>0.00</td>\n",
       "      <td>2.0</td>\n",
       "      <td>355.0</td>\n",
       "      <td>1.31</td>\n",
       "      <td>1</td>\n",
       "      <td>0.0</td>\n",
       "    </tr>\n",
       "    <tr>\n",
       "      <th>2017-04-06</th>\n",
       "      <td>48.0</td>\n",
       "      <td>62.0</td>\n",
       "      <td>0.04</td>\n",
       "      <td>1.00</td>\n",
       "      <td>4.7</td>\n",
       "      <td>135.0</td>\n",
       "      <td>1.31</td>\n",
       "      <td>1</td>\n",
       "      <td>0.0</td>\n",
       "    </tr>\n",
       "    <tr>\n",
       "      <th>2017-04-07</th>\n",
       "      <td>45.0</td>\n",
       "      <td>61.2</td>\n",
       "      <td>0.04</td>\n",
       "      <td>0.93</td>\n",
       "      <td>4.5</td>\n",
       "      <td>187.0</td>\n",
       "      <td>1.31</td>\n",
       "      <td>1</td>\n",
       "      <td>0.0</td>\n",
       "    </tr>\n",
       "    <tr>\n",
       "      <th>2017-04-08</th>\n",
       "      <td>38.6</td>\n",
       "      <td>58.2</td>\n",
       "      <td>0.09</td>\n",
       "      <td>0.19</td>\n",
       "      <td>2.9</td>\n",
       "      <td>433.0</td>\n",
       "      <td>1.31</td>\n",
       "      <td>1</td>\n",
       "      <td>0.0</td>\n",
       "    </tr>\n",
       "    <tr>\n",
       "      <th>2017-04-09</th>\n",
       "      <td>34.4</td>\n",
       "      <td>61.5</td>\n",
       "      <td>0.12</td>\n",
       "      <td>0.00</td>\n",
       "      <td>2.6</td>\n",
       "      <td>502.0</td>\n",
       "      <td>1.31</td>\n",
       "      <td>1</td>\n",
       "      <td>0.0</td>\n",
       "    </tr>\n",
       "    <tr>\n",
       "      <th>2017-04-10</th>\n",
       "      <td>38.3</td>\n",
       "      <td>65.0</td>\n",
       "      <td>0.10</td>\n",
       "      <td>0.00</td>\n",
       "      <td>2.5</td>\n",
       "      <td>405.0</td>\n",
       "      <td>1.31</td>\n",
       "      <td>1</td>\n",
       "      <td>0.0</td>\n",
       "    </tr>\n",
       "    <tr>\n",
       "      <th>2017-04-11</th>\n",
       "      <td>49.5</td>\n",
       "      <td>61.9</td>\n",
       "      <td>0.04</td>\n",
       "      <td>0.06</td>\n",
       "      <td>4.2</td>\n",
       "      <td>136.0</td>\n",
       "      <td>1.31</td>\n",
       "      <td>1</td>\n",
       "      <td>0.0</td>\n",
       "    </tr>\n",
       "    <tr>\n",
       "      <th>2017-04-12</th>\n",
       "      <td>52.0</td>\n",
       "      <td>62.5</td>\n",
       "      <td>0.07</td>\n",
       "      <td>0.09</td>\n",
       "      <td>6.6</td>\n",
       "      <td>277.0</td>\n",
       "      <td>1.31</td>\n",
       "      <td>1</td>\n",
       "      <td>0.0</td>\n",
       "    </tr>\n",
       "    <tr>\n",
       "      <th>2017-04-13</th>\n",
       "      <td>40.0</td>\n",
       "      <td>61.3</td>\n",
       "      <td>0.11</td>\n",
       "      <td>0.26</td>\n",
       "      <td>4.0</td>\n",
       "      <td>455.0</td>\n",
       "      <td>1.31</td>\n",
       "      <td>1</td>\n",
       "      <td>0.0</td>\n",
       "    </tr>\n",
       "    <tr>\n",
       "      <th>2017-04-14</th>\n",
       "      <td>34.9</td>\n",
       "      <td>64.1</td>\n",
       "      <td>0.13</td>\n",
       "      <td>0.00</td>\n",
       "      <td>2.8</td>\n",
       "      <td>517.0</td>\n",
       "      <td>1.31</td>\n",
       "      <td>1</td>\n",
       "      <td>0.0</td>\n",
       "    </tr>\n",
       "    <tr>\n",
       "      <th>2017-04-15</th>\n",
       "      <td>35.9</td>\n",
       "      <td>66.4</td>\n",
       "      <td>0.12</td>\n",
       "      <td>0.00</td>\n",
       "      <td>2.0</td>\n",
       "      <td>441.0</td>\n",
       "      <td>1.31</td>\n",
       "      <td>1</td>\n",
       "      <td>0.0</td>\n",
       "    </tr>\n",
       "    <tr>\n",
       "      <th>2017-04-16</th>\n",
       "      <td>44.2</td>\n",
       "      <td>54.4</td>\n",
       "      <td>0.01</td>\n",
       "      <td>0.46</td>\n",
       "      <td>1.9</td>\n",
       "      <td>82.0</td>\n",
       "      <td>1.31</td>\n",
       "      <td>1</td>\n",
       "      <td>0.0</td>\n",
       "    </tr>\n",
       "    <tr>\n",
       "      <th>2017-04-17</th>\n",
       "      <td>52.6</td>\n",
       "      <td>60.8</td>\n",
       "      <td>0.03</td>\n",
       "      <td>0.14</td>\n",
       "      <td>2.3</td>\n",
       "      <td>153.0</td>\n",
       "      <td>1.31</td>\n",
       "      <td>1</td>\n",
       "      <td>0.0</td>\n",
       "    </tr>\n",
       "    <tr>\n",
       "      <th>2017-04-18</th>\n",
       "      <td>46.8</td>\n",
       "      <td>67.6</td>\n",
       "      <td>0.13</td>\n",
       "      <td>0.03</td>\n",
       "      <td>3.2</td>\n",
       "      <td>486.0</td>\n",
       "      <td>1.31</td>\n",
       "      <td>1</td>\n",
       "      <td>0.0</td>\n",
       "    </tr>\n",
       "    <tr>\n",
       "      <th>2017-04-19</th>\n",
       "      <td>41.4</td>\n",
       "      <td>66.5</td>\n",
       "      <td>0.12</td>\n",
       "      <td>0.20</td>\n",
       "      <td>4.0</td>\n",
       "      <td>466.0</td>\n",
       "      <td>1.31</td>\n",
       "      <td>1</td>\n",
       "      <td>0.0</td>\n",
       "    </tr>\n",
       "    <tr>\n",
       "      <th>2017-04-20</th>\n",
       "      <td>47.3</td>\n",
       "      <td>68.9</td>\n",
       "      <td>0.14</td>\n",
       "      <td>0.00</td>\n",
       "      <td>2.5</td>\n",
       "      <td>535.0</td>\n",
       "      <td>1.31</td>\n",
       "      <td>1</td>\n",
       "      <td>0.0</td>\n",
       "    </tr>\n",
       "    <tr>\n",
       "      <th>2017-04-21</th>\n",
       "      <td>42.7</td>\n",
       "      <td>75.2</td>\n",
       "      <td>0.16</td>\n",
       "      <td>0.00</td>\n",
       "      <td>2.8</td>\n",
       "      <td>544.0</td>\n",
       "      <td>1.31</td>\n",
       "      <td>1</td>\n",
       "      <td>0.0</td>\n",
       "    </tr>\n",
       "    <tr>\n",
       "      <th>2017-04-22</th>\n",
       "      <td>41.1</td>\n",
       "      <td>66.8</td>\n",
       "      <td>0.10</td>\n",
       "      <td>0.00</td>\n",
       "      <td>3.7</td>\n",
       "      <td>375.0</td>\n",
       "      <td>1.31</td>\n",
       "      <td>1</td>\n",
       "      <td>0.0</td>\n",
       "    </tr>\n",
       "    <tr>\n",
       "      <th>2017-04-23</th>\n",
       "      <td>47.1</td>\n",
       "      <td>66.6</td>\n",
       "      <td>0.14</td>\n",
       "      <td>0.00</td>\n",
       "      <td>4.6</td>\n",
       "      <td>542.0</td>\n",
       "      <td>1.31</td>\n",
       "      <td>1</td>\n",
       "      <td>0.0</td>\n",
       "    </tr>\n",
       "    <tr>\n",
       "      <th>2017-04-24</th>\n",
       "      <td>47.4</td>\n",
       "      <td>63.9</td>\n",
       "      <td>0.09</td>\n",
       "      <td>0.00</td>\n",
       "      <td>4.3</td>\n",
       "      <td>349.0</td>\n",
       "      <td>1.31</td>\n",
       "      <td>1</td>\n",
       "      <td>0.0</td>\n",
       "    </tr>\n",
       "    <tr>\n",
       "      <th>2017-04-25</th>\n",
       "      <td>47.7</td>\n",
       "      <td>66.9</td>\n",
       "      <td>0.11</td>\n",
       "      <td>0.00</td>\n",
       "      <td>3.9</td>\n",
       "      <td>418.0</td>\n",
       "      <td>1.31</td>\n",
       "      <td>1</td>\n",
       "      <td>0.0</td>\n",
       "    </tr>\n",
       "    <tr>\n",
       "      <th>2017-04-26</th>\n",
       "      <td>50.0</td>\n",
       "      <td>63.7</td>\n",
       "      <td>0.04</td>\n",
       "      <td>0.00</td>\n",
       "      <td>4.0</td>\n",
       "      <td>162.0</td>\n",
       "      <td>1.31</td>\n",
       "      <td>1</td>\n",
       "      <td>0.0</td>\n",
       "    </tr>\n",
       "    <tr>\n",
       "      <th>2017-04-27</th>\n",
       "      <td>42.5</td>\n",
       "      <td>70.5</td>\n",
       "      <td>0.15</td>\n",
       "      <td>0.00</td>\n",
       "      <td>3.2</td>\n",
       "      <td>539.0</td>\n",
       "      <td>1.31</td>\n",
       "      <td>1</td>\n",
       "      <td>0.0</td>\n",
       "    </tr>\n",
       "    <tr>\n",
       "      <th>2017-04-28</th>\n",
       "      <td>42.2</td>\n",
       "      <td>75.7</td>\n",
       "      <td>0.17</td>\n",
       "      <td>0.00</td>\n",
       "      <td>2.2</td>\n",
       "      <td>584.0</td>\n",
       "      <td>1.31</td>\n",
       "      <td>1</td>\n",
       "      <td>0.0</td>\n",
       "    </tr>\n",
       "    <tr>\n",
       "      <th>2017-04-29</th>\n",
       "      <td>44.5</td>\n",
       "      <td>78.4</td>\n",
       "      <td>0.19</td>\n",
       "      <td>0.00</td>\n",
       "      <td>2.6</td>\n",
       "      <td>578.0</td>\n",
       "      <td>1.31</td>\n",
       "      <td>1</td>\n",
       "      <td>0.0</td>\n",
       "    </tr>\n",
       "    <tr>\n",
       "      <th>2017-04-30</th>\n",
       "      <td>43.5</td>\n",
       "      <td>79.1</td>\n",
       "      <td>0.17</td>\n",
       "      <td>0.00</td>\n",
       "      <td>2.5</td>\n",
       "      <td>562.0</td>\n",
       "      <td>1.31</td>\n",
       "      <td>1</td>\n",
       "      <td>0.0</td>\n",
       "    </tr>\n",
       "  </tbody>\n",
       "</table>\n",
       "</div>"
      ],
      "text/plain": [
       "            minTemp  maxTemp  Eto_values  DayPrecip  WindSpd  DaySolRad  rain  \\\n",
       "2017-04-01     44.6     74.9        0.15       0.00      3.2      476.0  1.31   \n",
       "2017-04-02     45.4     77.3        0.13       0.00      2.3      459.0  1.31   \n",
       "2017-04-03     38.8     74.4        0.15       0.00      2.9      499.0  1.31   \n",
       "2017-04-04     43.1     68.1        0.11       0.00      2.6      399.0  1.31   \n",
       "2017-04-05     44.4     70.5        0.11       0.00      2.0      355.0  1.31   \n",
       "2017-04-06     48.0     62.0        0.04       1.00      4.7      135.0  1.31   \n",
       "2017-04-07     45.0     61.2        0.04       0.93      4.5      187.0  1.31   \n",
       "2017-04-08     38.6     58.2        0.09       0.19      2.9      433.0  1.31   \n",
       "2017-04-09     34.4     61.5        0.12       0.00      2.6      502.0  1.31   \n",
       "2017-04-10     38.3     65.0        0.10       0.00      2.5      405.0  1.31   \n",
       "2017-04-11     49.5     61.9        0.04       0.06      4.2      136.0  1.31   \n",
       "2017-04-12     52.0     62.5        0.07       0.09      6.6      277.0  1.31   \n",
       "2017-04-13     40.0     61.3        0.11       0.26      4.0      455.0  1.31   \n",
       "2017-04-14     34.9     64.1        0.13       0.00      2.8      517.0  1.31   \n",
       "2017-04-15     35.9     66.4        0.12       0.00      2.0      441.0  1.31   \n",
       "2017-04-16     44.2     54.4        0.01       0.46      1.9       82.0  1.31   \n",
       "2017-04-17     52.6     60.8        0.03       0.14      2.3      153.0  1.31   \n",
       "2017-04-18     46.8     67.6        0.13       0.03      3.2      486.0  1.31   \n",
       "2017-04-19     41.4     66.5        0.12       0.20      4.0      466.0  1.31   \n",
       "2017-04-20     47.3     68.9        0.14       0.00      2.5      535.0  1.31   \n",
       "2017-04-21     42.7     75.2        0.16       0.00      2.8      544.0  1.31   \n",
       "2017-04-22     41.1     66.8        0.10       0.00      3.7      375.0  1.31   \n",
       "2017-04-23     47.1     66.6        0.14       0.00      4.6      542.0  1.31   \n",
       "2017-04-24     47.4     63.9        0.09       0.00      4.3      349.0  1.31   \n",
       "2017-04-25     47.7     66.9        0.11       0.00      3.9      418.0  1.31   \n",
       "2017-04-26     50.0     63.7        0.04       0.00      4.0      162.0  1.31   \n",
       "2017-04-27     42.5     70.5        0.15       0.00      3.2      539.0  1.31   \n",
       "2017-04-28     42.2     75.7        0.17       0.00      2.2      584.0  1.31   \n",
       "2017-04-29     44.5     78.4        0.19       0.00      2.6      578.0  1.31   \n",
       "2017-04-30     43.5     79.1        0.17       0.00      2.5      562.0  1.31   \n",
       "\n",
       "           type  stage  \n",
       "2017-04-01    1    0.0  \n",
       "2017-04-02    1    0.0  \n",
       "2017-04-03    1    0.0  \n",
       "2017-04-04    1    0.0  \n",
       "2017-04-05    1    0.0  \n",
       "2017-04-06    1    0.0  \n",
       "2017-04-07    1    0.0  \n",
       "2017-04-08    1    0.0  \n",
       "2017-04-09    1    0.0  \n",
       "2017-04-10    1    0.0  \n",
       "2017-04-11    1    0.0  \n",
       "2017-04-12    1    0.0  \n",
       "2017-04-13    1    0.0  \n",
       "2017-04-14    1    0.0  \n",
       "2017-04-15    1    0.0  \n",
       "2017-04-16    1    0.0  \n",
       "2017-04-17    1    0.0  \n",
       "2017-04-18    1    0.0  \n",
       "2017-04-19    1    0.0  \n",
       "2017-04-20    1    0.0  \n",
       "2017-04-21    1    0.0  \n",
       "2017-04-22    1    0.0  \n",
       "2017-04-23    1    0.0  \n",
       "2017-04-24    1    0.0  \n",
       "2017-04-25    1    0.0  \n",
       "2017-04-26    1    0.0  \n",
       "2017-04-27    1    0.0  \n",
       "2017-04-28    1    0.0  \n",
       "2017-04-29    1    0.0  \n",
       "2017-04-30    1    0.0  "
      ]
     },
     "execution_count": 44,
     "metadata": {},
     "output_type": "execute_result"
    }
   ],
   "source": [
    "test[90:120]"
   ]
  },
  {
   "cell_type": "markdown",
   "metadata": {
    "hidden": true
   },
   "source": [
    "#### pickleing \n"
   ]
  },
  {
   "cell_type": "code",
   "execution_count": null,
   "metadata": {
    "hidden": true
   },
   "outputs": [],
   "source": [
    "def save_data(data, name):\n",
    "    path = \"../data/\"\n",
    "    with open(path+\"pkl/\"+name+\".pkl\", 'wb') as f:\n",
    "        pickle.dump(data, f)\n",
    "        \n",
    "    data.to_csv(path+'csv/'+name+'.csv',sep=\",\")\n",
    "    "
   ]
  },
  {
   "cell_type": "code",
   "execution_count": null,
   "metadata": {
    "hidden": true
   },
   "outputs": [],
   "source": [
    "# save_data(use,'2010to2017')"
   ]
  },
  {
   "cell_type": "code",
   "execution_count": null,
   "metadata": {
    "hidden": true
   },
   "outputs": [],
   "source": [
    "# with open('../data/pkl/dataset.pkl', 'rb') as data:\n",
    "#     dataset = pickle.load(data)"
   ]
  },
  {
   "cell_type": "code",
   "execution_count": null,
   "metadata": {
    "hidden": true
   },
   "outputs": [],
   "source": [
    "df = pd.read_csv('../data/csv/2010to2017.csv')\n",
    "df = df.set_index('index')"
   ]
  },
  {
   "cell_type": "code",
   "execution_count": null,
   "metadata": {
    "hidden": true
   },
   "outputs": [],
   "source": [
    "# looking for unknow values\n",
    "# use.isna().sum()"
   ]
  },
  {
   "cell_type": "code",
   "execution_count": null,
   "metadata": {
    "hidden": true
   },
   "outputs": [],
   "source": [
    "%run ../script/cleanup.py"
   ]
  },
  {
   "cell_type": "code",
   "execution_count": null,
   "metadata": {
    "hidden": true
   },
   "outputs": [],
   "source": [
    "dataset = cleanup(df)"
   ]
  },
  {
   "cell_type": "code",
   "execution_count": null,
   "metadata": {
    "hidden": true
   },
   "outputs": [],
   "source": [
    "dataset"
   ]
  },
  {
   "cell_type": "markdown",
   "metadata": {
    "hidden": true
   },
   "source": [
    "##### try to implement categorical binning \n",
    "#### Split the data into train and test"
   ]
  },
  {
   "cell_type": "code",
   "execution_count": null,
   "metadata": {
    "hidden": true
   },
   "outputs": [],
   "source": [
    "train_dataset = dataset.sample(frac=0.8, random_state=0)\n",
    "test_dataset = dataset.drop(train_dataset.index)"
   ]
  },
  {
   "cell_type": "code",
   "execution_count": null,
   "metadata": {
    "hidden": true
   },
   "outputs": [],
   "source": [
    "# the label can be the number of week\n",
    "# and it can be a regression problem "
   ]
  },
  {
   "cell_type": "markdown",
   "metadata": {
    "hidden": true
   },
   "source": [
    "#### Also look at the overall statistics:"
   ]
  },
  {
   "cell_type": "code",
   "execution_count": null,
   "metadata": {
    "hidden": true
   },
   "outputs": [],
   "source": [
    "train_stats = train_dataset.describe()\n",
    "train_stats.pop(\"Harvest\")\n",
    "train_stats = train_stats.transpose()\n",
    "train_stats"
   ]
  },
  {
   "cell_type": "markdown",
   "metadata": {
    "hidden": true
   },
   "source": [
    "#### Split features from labels"
   ]
  },
  {
   "cell_type": "code",
   "execution_count": null,
   "metadata": {
    "hidden": true
   },
   "outputs": [],
   "source": [
    "train_labels = train_dataset.pop('Harvest')\n",
    "test_labels = test_dataset.pop('Harvest')"
   ]
  },
  {
   "cell_type": "markdown",
   "metadata": {
    "hidden": true
   },
   "source": [
    "#### Normalize the data"
   ]
  },
  {
   "cell_type": "code",
   "execution_count": null,
   "metadata": {
    "hidden": true
   },
   "outputs": [],
   "source": [
    "# def norm(x):\n",
    "#     return (x - train_stats['mean'])/train_stats['std']\n",
    "# normed_train_data = norm(train_dataset)\n",
    "# normed_test_data = norm(test_dataset)\n",
    "from sklearn import preprocessing\n",
    "def standardize_data(df):\n",
    "    \n",
    "    X_scaled = preprocessing.scale(df[['minTemp', 'maxTemp', 'Eto_values','DayPrecip','WindSpd','DaySolRad',\n",
    "                                       'rain','Month','Day', 'Bud', 'Bloom','Veraison']])\n",
    " \n",
    "    X_scaled_df = pd.DataFrame(X_scaled, columns=['minTemp', 'maxTemp', 'Eto_values','DayPrecip','WindSpd','DaySolRad',\n",
    "                                                  'rain','Month','Day','Bud','Bloom','Veraison'])\n",
    "#     df_scale = pd.concat([X_scaled_df,\n",
    "#                          df['Bud'], df['Bloom'], df['Veraison']],axis=1) # join='inner')\n",
    "\n",
    "    return X_scaled_df\n",
    "    "
   ]
  },
  {
   "cell_type": "code",
   "execution_count": null,
   "metadata": {
    "hidden": true
   },
   "outputs": [],
   "source": [
    "df_train_scale = standardize_data(train_dataset)\n",
    "df_test_scale = standardize_data(test_dataset)"
   ]
  },
  {
   "cell_type": "code",
   "execution_count": null,
   "metadata": {
    "hidden": true
   },
   "outputs": [],
   "source": [
    "train_dataset.shape"
   ]
  },
  {
   "cell_type": "code",
   "execution_count": null,
   "metadata": {
    "hidden": true
   },
   "outputs": [],
   "source": [
    "df_train_scale.shape"
   ]
  },
  {
   "cell_type": "markdown",
   "metadata": {},
   "source": [
    "## Model"
   ]
  },
  {
   "cell_type": "markdown",
   "metadata": {
    "heading_collapsed": true
   },
   "source": [
    "#### Build the model"
   ]
  },
  {
   "cell_type": "code",
   "execution_count": null,
   "metadata": {
    "hidden": true
   },
   "outputs": [],
   "source": [
    "import tensorflow as tf\n",
    "from tensorflow import keras\n",
    "from tensorflow.keras import layers"
   ]
  },
  {
   "cell_type": "code",
   "execution_count": null,
   "metadata": {
    "hidden": true
   },
   "outputs": [],
   "source": [
    "def build_model():\n",
    "    model = keras.Sequential([\n",
    "        layers.Dense(64, activation=tf.nn.relu, input_shape=[len(df_train_scale.keys())]),\n",
    "        layers.Dense(64, activation=tf.nn.relu),\n",
    "        layers.Dense(1)\n",
    "    ])\n",
    "    \n",
    "    optimizer = tf.keras.optimizers.RMSprop(0.001)\n",
    "    model.compile(loss='mse',\n",
    "             optimizer=optimizer,\n",
    "             metrics=['mae','mse'])\n",
    "    return model\n"
   ]
  },
  {
   "cell_type": "code",
   "execution_count": null,
   "metadata": {
    "hidden": true
   },
   "outputs": [],
   "source": [
    "model = build_model()"
   ]
  },
  {
   "cell_type": "code",
   "execution_count": null,
   "metadata": {
    "hidden": true
   },
   "outputs": [],
   "source": [
    "model.summary()"
   ]
  },
  {
   "cell_type": "code",
   "execution_count": null,
   "metadata": {
    "hidden": true
   },
   "outputs": [],
   "source": [
    "example_batch = df_train_scale[:10]\n",
    "example_result = model.predict(example_batch)\n",
    "example_result"
   ]
  },
  {
   "cell_type": "code",
   "execution_count": null,
   "metadata": {
    "hidden": true
   },
   "outputs": [],
   "source": [
    "# train_dataset.head()\n",
    "df_train_scale[:10]"
   ]
  },
  {
   "cell_type": "code",
   "execution_count": null,
   "metadata": {
    "hidden": true
   },
   "outputs": [],
   "source": [
    "train_labels[:10]"
   ]
  },
  {
   "cell_type": "markdown",
   "metadata": {
    "heading_collapsed": true
   },
   "source": [
    "#### Train the model"
   ]
  },
  {
   "cell_type": "code",
   "execution_count": null,
   "metadata": {
    "hidden": true
   },
   "outputs": [],
   "source": [
    "class PrintDot(keras.callbacks.Callback):\n",
    "    def on_epoch_end(self, epoch, logs):\n",
    "        if epoch % 100 == 0: print('')\n",
    "        print('.', end='')"
   ]
  },
  {
   "cell_type": "code",
   "execution_count": null,
   "metadata": {
    "hidden": true
   },
   "outputs": [],
   "source": [
    "EPOCHS = 1000\n",
    "history = model.fit(\n",
    "    df_train_scale, train_labels,\n",
    "    epochs=EPOCHS, validation_split = 0.2, verbose=0, callbacks=[PrintDot()])"
   ]
  },
  {
   "cell_type": "code",
   "execution_count": null,
   "metadata": {
    "hidden": true
   },
   "outputs": [],
   "source": [
    "hist = pd.DataFrame(history.history)\n",
    "hist['epoch'] = history.epoch\n",
    "hist.tail()"
   ]
  },
  {
   "cell_type": "code",
   "execution_count": null,
   "metadata": {
    "hidden": true
   },
   "outputs": [],
   "source": [
    "import matplotlib.pyplot as plt\n",
    "\n",
    "def plot_history(history):\n",
    "    hist = pd.DataFrame(history.history)\n",
    "    hist['epoch'] = history.epoch\n",
    "    \n",
    "    plt.figure()\n",
    "    plt.xlabel('Epoch')\n",
    "    plt.ylabel('Mean Abs Error [Harverst]')\n",
    "    plt.plot(hist['epoch'], hist['mean_absolute_error'],\n",
    "            label='Train Error')\n",
    "    plt.plot(hist['epoch'], hist['val_mean_absolute_error'],\n",
    "            label='Val Error')\n",
    "    plt.legend()\n",
    "    plt.ylim([0,0.25])\n",
    "    \n",
    "    plt.figure()\n",
    "    plt.xlabel('Epoch')\n",
    "    plt.ylabel('Mean Square Error [Harverst^2]')\n",
    "    plt.plot(hist['epoch'], hist['mean_squared_error'],\n",
    "            label='Train Error')\n",
    "    plt.plot(hist['epoch'], hist['val_mean_squared_error'],\n",
    "            label='Val Error')\n",
    "    plt.legend()\n",
    "    plt.ylim([0,0.0625])"
   ]
  },
  {
   "cell_type": "code",
   "execution_count": null,
   "metadata": {
    "hidden": true
   },
   "outputs": [],
   "source": [
    "plot_history(history)"
   ]
  },
  {
   "cell_type": "code",
   "execution_count": null,
   "metadata": {
    "hidden": true
   },
   "outputs": [],
   "source": [
    "scores = model.evaluate(df_test_scale, test_labels)\n",
    "print(\"Accuracy: %.2f%%\"%(scores[1]*100))"
   ]
  },
  {
   "cell_type": "code",
   "execution_count": null,
   "metadata": {
    "hidden": true
   },
   "outputs": [],
   "source": [
    "model = build_model()\n",
    "\n",
    "# The patience parameter is the amount of epochs to check for improvement\n",
    "early_stop = keras.callbacks.EarlyStopping(monitor='val_loss', patience=10)\n",
    "\n",
    "history = model.fit(df_train_scale,train_labels, epochs=EPOCHS, validation_split= 0.2, verbose=0, callbacks=[early_stop, PrintDot()])\n",
    "plot_history(history)"
   ]
  },
  {
   "cell_type": "code",
   "execution_count": null,
   "metadata": {
    "hidden": true
   },
   "outputs": [],
   "source": [
    "loss, mae, mse = model.evaluate(df_test_scale, test_labels, verbose=0)\n",
    "print(\"Testing set Mean Abs Error: {:5.2f} Haverst\".format(mae))\n",
    "print(\"Testing set Mean square Error: {:5.2f} Haverst\".format(mse))\n",
    "print(\"Testing set loss: {:5.2f} Haverst\".format(loss))\n",
    "scores = model.evaluate(df_test_scale, test_labels)\n",
    "print(\"Accuracy: %.2f%%\"%(scores[1]*100))"
   ]
  },
  {
   "cell_type": "markdown",
   "metadata": {
    "heading_collapsed": true
   },
   "source": [
    "## Make Predictions"
   ]
  },
  {
   "cell_type": "code",
   "execution_count": null,
   "metadata": {
    "hidden": true
   },
   "outputs": [],
   "source": [
    "test_predictions = model.predict(df_test_scale).flatten()\n",
    "test_predictions"
   ]
  },
  {
   "cell_type": "code",
   "execution_count": null,
   "metadata": {
    "hidden": true
   },
   "outputs": [],
   "source": [
    "test_labels.size"
   ]
  },
  {
   "cell_type": "code",
   "execution_count": null,
   "metadata": {
    "hidden": true
   },
   "outputs": [],
   "source": [
    "plt.scatter(test_labels, test_predictions)\n",
    "plt.xlabel('True Values [Harvest]')\n",
    "plt.ylabel('Predictions [Harvest]')\n",
    "plt.axis('equal')\n",
    "plt.axis('square')\n",
    "plt.xlim([0,plt.xlim()[1]])\n",
    "plt.ylim([0,plt.ylim()[1]])\n",
    "_ = plt.plot([-10,10], [-10,10])"
   ]
  },
  {
   "cell_type": "code",
   "execution_count": null,
   "metadata": {
    "hidden": true
   },
   "outputs": [],
   "source": [
    "error = test_predictions - test_labels\n",
    "plt.hist(error, bins = 25)\n",
    "plt.xlabel(\"Prediction Error [Harvest]\")\n",
    "_ = plt.ylabel('Count')"
   ]
  },
  {
   "cell_type": "code",
   "execution_count": null,
   "metadata": {
    "hidden": true,
    "pycharm": {
     "name": "#%%"
    }
   },
   "outputs": [],
   "source": []
  }
 ],
 "metadata": {
  "kernelspec": {
   "display_name": "Python 3",
   "language": "python",
   "name": "python3"
  },
  "language_info": {
   "codemirror_mode": {
    "name": "ipython",
    "version": 3
   },
   "file_extension": ".py",
   "mimetype": "text/x-python",
   "name": "python",
   "nbconvert_exporter": "python",
   "pygments_lexer": "ipython3",
   "version": "3.6.7"
  }
 },
 "nbformat": 4,
 "nbformat_minor": 2
}